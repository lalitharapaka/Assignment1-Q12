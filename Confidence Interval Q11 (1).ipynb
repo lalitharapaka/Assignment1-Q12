{
 "cells": [
  {
   "cell_type": "code",
   "execution_count": 7,
   "id": "a4bff88a",
   "metadata": {},
   "outputs": [],
   "source": [
    "import numpy as np\n",
    "import pandas as pd \n",
    "from scipy import stats\n",
    "from scipy.stats import norm\n"
   ]
  },
  {
   "cell_type": "code",
   "execution_count": 8,
   "id": "eabd7bce",
   "metadata": {},
   "outputs": [
    {
     "data": {
      "text/plain": [
       "(198.738325292158, 201.261674707842)"
      ]
     },
     "execution_count": 8,
     "metadata": {},
     "output_type": "execute_result"
    }
   ],
   "source": [
    "### 94% Confidence interval\n",
    "stats.norm.interval(0.94, 200, 30/(2000**0.5))"
   ]
  },
  {
   "cell_type": "code",
   "execution_count": 11,
   "id": "9b1139d7",
   "metadata": {},
   "outputs": [
    {
     "data": {
      "text/plain": [
       "(198.62230334813333, 201.37769665186667)"
      ]
     },
     "execution_count": 11,
     "metadata": {},
     "output_type": "execute_result"
    }
   ],
   "source": [
    "### 96% Confidence interval\n",
    "stats.norm.interval(0.96, 200,30/(2000**0.5))"
   ]
  },
  {
   "cell_type": "code",
   "execution_count": 12,
   "id": "283a519c",
   "metadata": {},
   "outputs": [
    {
     "data": {
      "text/plain": [
       "(198.43943840429978, 201.56056159570022)"
      ]
     },
     "execution_count": 12,
     "metadata": {},
     "output_type": "execute_result"
    }
   ],
   "source": [
    "### 98% Confidence interval\n",
    "stats.norm.interval(0.98, 200, 30/(2000**0.5))"
   ]
  }
 ],
 "metadata": {
  "kernelspec": {
   "display_name": "Python 3",
   "language": "python",
   "name": "python3"
  },
  "language_info": {
   "codemirror_mode": {
    "name": "ipython",
    "version": 3
   },
   "file_extension": ".py",
   "mimetype": "text/x-python",
   "name": "python",
   "nbconvert_exporter": "python",
   "pygments_lexer": "ipython3",
   "version": "3.8.8"
  }
 },
 "nbformat": 4,
 "nbformat_minor": 5
}
